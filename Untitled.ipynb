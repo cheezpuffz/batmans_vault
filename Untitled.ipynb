{
 "cells": [
  {
   "cell_type": "code",
   "execution_count": null,
   "id": "8f0b7823-29b0-47a1-921e-7ed11b3c3932",
   "metadata": {},
   "outputs": [
    {
     "name": "stdin",
     "output_type": "stream",
     "text": [
      "Do you want to add a student? (yes/no):  yes\n",
      "Enter student name:  kk\n",
      "Enter student ID:  11\n"
     ]
    }
   ],
   "source": [
    "def get_student_info():\n",
    "    name = input(\"Enter student name: \")\n",
    "    student_id = input(\"Enter student ID: \")\n",
    "    return {\"name\": name, \"ID\": student_id}\n",
    "\n",
    "def main():\n",
    "    students = []\n",
    "\n",
    "    while True:\n",
    "        choice = input(\"Do you want to add a student? (yes/no): \").lower()\n",
    "\n",
    "        if choice != 'yes':\n",
    "            break\n",
    "\n",
    "        student_info = get_student_info()\n",
    "        students.append(student_info)\n",
    "\n",
    "    print(\"\\nStudents Information:\")\n",
    "    for student in students:\n",
    "        print(f\"Name: {student['name']}, ID: {student['ID']}\")\n",
    "\n",
    "if __name__ == \"__main__\":\n",
    "    main()\n"
   ]
  },
  {
   "cell_type": "code",
   "execution_count": null,
   "id": "6dd21366-dd13-41e6-b26c-bd6ff3e57c1b",
   "metadata": {},
   "outputs": [],
   "source": []
  }
 ],
 "metadata": {
  "kernelspec": {
   "display_name": "Python 3 (ipykernel)",
   "language": "python",
   "name": "python3"
  },
  "language_info": {
   "codemirror_mode": {
    "name": "ipython",
    "version": 3
   },
   "file_extension": ".py",
   "mimetype": "text/x-python",
   "name": "python",
   "nbconvert_exporter": "python",
   "pygments_lexer": "ipython3",
   "version": "3.12.2"
  }
 },
 "nbformat": 4,
 "nbformat_minor": 5
}
